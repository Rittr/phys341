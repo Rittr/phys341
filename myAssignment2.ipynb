{
  "nbformat": 4,
  "nbformat_minor": 0,
  "metadata": {
    "colab": {
      "name": "Untitled0.ipynb",
      "provenance": [],
      "authorship_tag": "ABX9TyPniG9+i3Zn3qqzKvQ8pvvM",
      "include_colab_link": true
    },
    "kernelspec": {
      "name": "python3",
      "display_name": "Python 3"
    }
  },
  "cells": [
    {
      "cell_type": "markdown",
      "metadata": {
        "id": "view-in-github",
        "colab_type": "text"
      },
      "source": [
        "<a href=\"https://colab.research.google.com/github/Rittr/phys341/blob/master/myAssignment2.ipynb\" target=\"_parent\"><img src=\"https://colab.research.google.com/assets/colab-badge.svg\" alt=\"Open In Colab\"/></a>"
      ]
    },
    {
      "cell_type": "code",
      "metadata": {
        "id": "kMeWVMwqvTLA"
      },
      "source": [
        "import matplotlib.pyplot as plt \n",
        "import numpy as np \n",
        "import scipy.stats as stats "
      ],
      "execution_count": 2,
      "outputs": []
    },
    {
      "cell_type": "code",
      "metadata": {
        "id": "M8Vyg2zBv1vY"
      },
      "source": [
        "# question 1"
      ],
      "execution_count": null,
      "outputs": []
    },
    {
      "cell_type": "code",
      "metadata": {
        "id": "AlqEVFwNvUMH",
        "outputId": "6f48c564-2def-47e6-99d3-ca9234b7ecea",
        "colab": {
          "base_uri": "https://localhost:8080/",
          "height": 109
        }
      },
      "source": [
        "# question 2\n",
        "z = stats.norm(0,1)\n",
        "\n",
        "print (z.ppf(0.9850))\n",
        "print (z.ppf(0.5+0.2995))\n",
        "print (z.ppf(1-.1230))\n",
        "print ((-1.0*z.ppf((1-.6629)/2)))\n",
        "print (z.ppf(1-0.0160/2))"
      ],
      "execution_count": 5,
      "outputs": [
        {
          "output_type": "stream",
          "text": [
            "2.17009037758456\n",
            "0.8398366163448432\n",
            "1.1601198829975203\n",
            "0.9599110189535661\n",
            "2.408915545815461\n"
          ],
          "name": "stdout"
        }
      ]
    },
    {
      "cell_type": "code",
      "metadata": {
        "id": "k8QYjUWcv0vN",
        "outputId": "a8bf30e7-4aac-466c-fc7b-e7982e17eec5",
        "colab": {
          "base_uri": "https://localhost:8080/",
          "height": 127
        }
      },
      "source": [
        "# question 3\n",
        "x = stats.norm(75,15)\n",
        "\n",
        "print (x.cdf(105))\n",
        "print (x.cdf(75))\n",
        "print (x.cdf(105)-x.cdf(52.5))\n",
        "print (1-x.cdf(60))\n",
        "print (x.cdf(97.5)-x.cdf(82.5))\n",
        "print (x.cdf(90)-x.cdf(60))"
      ],
      "execution_count": 7,
      "outputs": [
        {
          "output_type": "stream",
          "text": [
            "0.9772498680518208\n",
            "0.5\n",
            "0.9104426667829627\n",
            "0.8413447460685429\n",
            "0.2417303374571288\n",
            "0.6826894921370859\n"
          ],
          "name": "stdout"
        }
      ]
    },
    {
      "cell_type": "code",
      "metadata": {
        "id": "ZxbmDrkXvUaI",
        "outputId": "f2e9e6bd-f442-442b-8742-a615af27df07",
        "colab": {
          "base_uri": "https://localhost:8080/",
          "height": 72
        }
      },
      "source": [
        "# question 4\n",
        "mu = 15.0\n",
        "sigma = 1.33\n",
        "\n",
        "x = stats.norm(mu,sigma)\n",
        "\n",
        "print (x.cdf(18))\n",
        "print (x.cdf(12)-x.cdf(10))\n",
        "print (x.cdf(mu+1.5*sigma)-x.cdf(mu-1.5*sigma))"
      ],
      "execution_count": 8,
      "outputs": [
        {
          "output_type": "stream",
          "text": [
            "0.9879533787260233\n",
            "0.011961460092915184\n",
            "0.866385597462284\n"
          ],
          "name": "stdout"
        }
      ]
    },
    {
      "cell_type": "code",
      "metadata": {
        "id": "VkBl3bdMvUii",
        "outputId": "4be9e507-3741-47ab-939b-7b08b42d839f",
        "colab": {
          "base_uri": "https://localhost:8080/",
          "height": 54
        }
      },
      "source": [
        "# question 5\n",
        "x = stats.norm(43,4.0)\n",
        "\n",
        "print (x.cdf(40))\n",
        "print (x.ppf())"
      ],
      "execution_count": 10,
      "outputs": [
        {
          "output_type": "stream",
          "text": [
            "0.2266273523768682\n",
            "<bound method rv_frozen.cdf of <scipy.stats._distn_infrastructure.rv_frozen object at 0x7f1f29ff5438>>\n"
          ],
          "name": "stdout"
        }
      ]
    },
    {
      "cell_type": "code",
      "metadata": {
        "id": "-VlsKoq80Lvx"
      },
      "source": [
        "# question 6"
      ],
      "execution_count": null,
      "outputs": []
    },
    {
      "cell_type": "code",
      "metadata": {
        "id": "BFw8KJ7R0Lyj",
        "outputId": "59b65172-9e71-4064-eb08-fb4c05d2e252",
        "colab": {
          "base_uri": "https://localhost:8080/",
          "height": 35
        }
      },
      "source": [
        "# question 7\n",
        "\n",
        "central_area = 0.95\n",
        "delta_mu = 0.6\n",
        "\n",
        "slow = stats.norm.ppf((1-central_area)/2.0)\n",
        "shigh = stats.norm.ppf(central_area+(1-central_area)/2.0)\n",
        "\n",
        "print (slow,shigh)"
      ],
      "execution_count": 9,
      "outputs": [
        {
          "output_type": "stream",
          "text": [
            "-1.959963984540054 1.959963984540054\n"
          ],
          "name": "stdout"
        }
      ]
    },
    {
      "cell_type": "code",
      "metadata": {
        "id": "cpU7cS-A0L1D"
      },
      "source": [
        "# question 8"
      ],
      "execution_count": null,
      "outputs": []
    }
  ]
}