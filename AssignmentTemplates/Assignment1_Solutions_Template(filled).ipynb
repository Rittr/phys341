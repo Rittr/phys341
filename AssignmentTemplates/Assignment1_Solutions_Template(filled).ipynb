{
  "nbformat": 4,
  "nbformat_minor": 0,
  "metadata": {
    "kernelspec": {
      "display_name": "Python 3",
      "language": "python",
      "name": "python3"
    },
    "language_info": {
      "codemirror_mode": {
        "name": "ipython",
        "version": 3
      },
      "file_extension": ".py",
      "mimetype": "text/x-python",
      "name": "python",
      "nbconvert_exporter": "python",
      "pygments_lexer": "ipython3",
      "version": "3.6.8"
    },
    "colab": {
      "name": "Assignment1_Solutions_Template.ipynb",
      "provenance": []
    }
  },
  "cells": [
    {
      "cell_type": "markdown",
      "metadata": {
        "id": "Z7ooJI46SSTP",
        "colab_type": "text"
      },
      "source": [
        "# Assignment 1 Solutions"
      ]
    },
    {
      "cell_type": "code",
      "metadata": {
        "id": "ZzbMRYOaSSTR",
        "colab_type": "code",
        "colab": {}
      },
      "source": [
        "# Import the required packages, \n",
        "# with their conventional names \n",
        "import matplotlib.pyplot as plt \n",
        "import numpy as np \n",
        "import scipy.stats as stats"
      ],
      "execution_count": null,
      "outputs": []
    },
    {
      "cell_type": "markdown",
      "metadata": {
        "id": "fq5g5VDOSSTZ",
        "colab_type": "text"
      },
      "source": [
        "# Question 1:  \n",
        "\n",
        "A cat is launched from the top of the Trible library with zero initial velocity, and lands, unharmed, on the ground below time later. The height of the Trible library is measured to be (21.2 +/- 0.4) m. The time is measured to be (2.04 +/- 0.05) s.\n",
        "\n",
        "(a) What is the measured value of the acceleration due to gravity, ignoring air resistance?\n",
        "\n",
        "(b) Assuming that the uncertainties quoted above follow a uniform error distribution, what is the measured uncertainty in the acceleration due to gravity?\n",
        "\n",
        "(c) Assuming that the uncertainties quoted above follow a Gaussian error distribution, what is the measured uncertainty in the acceleration due to gravity?"
      ]
    },
    {
      "cell_type": "code",
      "metadata": {
        "id": "L1MeYYmtSSTd",
        "colab_type": "code",
        "colab": {}
      },
      "source": [
        ""
      ],
      "execution_count": null,
      "outputs": []
    },
    {
      "cell_type": "code",
      "metadata": {
        "id": "Ambk8dY1SSTj",
        "colab_type": "code",
        "colab": {}
      },
      "source": [
        ""
      ],
      "execution_count": null,
      "outputs": []
    },
    {
      "cell_type": "code",
      "metadata": {
        "id": "X9EXOhJpSSTq",
        "colab_type": "code",
        "colab": {}
      },
      "source": [
        ""
      ],
      "execution_count": null,
      "outputs": []
    },
    {
      "cell_type": "code",
      "metadata": {
        "id": "Etue8FAzSSTv",
        "colab_type": "code",
        "colab": {}
      },
      "source": [
        ""
      ],
      "execution_count": null,
      "outputs": []
    },
    {
      "cell_type": "markdown",
      "metadata": {
        "id": "qXdKWjhdSST0",
        "colab_type": "text"
      },
      "source": [
        "# Question 2: \n",
        "\n",
        "Airlines sometimes overbook flights. Suppose that for a plane with 50 seats, 55 passengers have tickets. Define the random variable Y as the number of ticketed passengers who actually show up for the flight. The probability mass function of Y appears in the accompanying table.\n",
        "\n",
        "(a) What is the probability that the flight will accommodate all ticketed passengers who show up?\n",
        "\n",
        "(b) What is the probability that not all ticketed passengers who show up can be accommodated?\n",
        "\n",
        "(c) If you are the first person on the standby list (which means you will be the first one to get on the plane if there are any seats available after all ticketed passengers have been accommodated), what is the probability that you will be able to take the flight? \n",
        "\n",
        "What is this probability if you are the third person on the standby list?"
      ]
    },
    {
      "cell_type": "code",
      "metadata": {
        "id": "fhf6NPqjSST1",
        "colab_type": "code",
        "colab": {}
      },
      "source": [
        ""
      ],
      "execution_count": null,
      "outputs": []
    },
    {
      "cell_type": "code",
      "metadata": {
        "id": "Lv9_DaOFSST6",
        "colab_type": "code",
        "colab": {}
      },
      "source": [
        ""
      ],
      "execution_count": null,
      "outputs": []
    },
    {
      "cell_type": "code",
      "metadata": {
        "id": "VYnb7GJQSST-",
        "colab_type": "code",
        "colab": {}
      },
      "source": [
        ""
      ],
      "execution_count": null,
      "outputs": []
    },
    {
      "cell_type": "code",
      "metadata": {
        "id": "73zJhIG5SSUC",
        "colab_type": "code",
        "colab": {}
      },
      "source": [
        ""
      ],
      "execution_count": null,
      "outputs": []
    },
    {
      "cell_type": "markdown",
      "metadata": {
        "id": "CQa1xKLjSSUH",
        "colab_type": "text"
      },
      "source": [
        "# Question 3: \n",
        "\n",
        "A mail-order company business has six telephone lines. Let X denote the number of lines in use at a specified time. Suppose the pmf of X is as given in the accompanying table.\n",
        "\n",
        "\n",
        "Calculate the probability of each of the following events.\n",
        "\n",
        "(a) {at most three lines are in use}\n",
        "\n",
        "(b) {fewer than three lines are in use}\n",
        "\n",
        "(c) {at least three lines are in use}\n",
        "\n",
        "(d) {between two and five lines, inclusive, are in use}\n",
        "\n",
        "(e) {between two and four lines, inclusive, are not in use}\n",
        "\n",
        "(f) {at least four lines are not in use}"
      ]
    },
    {
      "cell_type": "code",
      "metadata": {
        "id": "aQ77LDvvSSUH",
        "colab_type": "code",
        "colab": {}
      },
      "source": [
        ""
      ],
      "execution_count": null,
      "outputs": []
    },
    {
      "cell_type": "code",
      "metadata": {
        "id": "n4UTDE6OSSUL",
        "colab_type": "code",
        "colab": {}
      },
      "source": [
        ""
      ],
      "execution_count": null,
      "outputs": []
    },
    {
      "cell_type": "markdown",
      "metadata": {
        "id": "rPd1-GlKSSUR",
        "colab_type": "text"
      },
      "source": [
        "# Question 4: \n",
        "\n",
        "Compute the following binomial probabilities directly from the formula for b(x; n, p).\n",
        "\n",
        "(a) b(3; 5, 0.48)\n",
        "\n",
        "(b) b(2; 7, 0.77)\n",
        "\n",
        "(c) P(3 <= X <= 5) when n = 9 and p = 0.76\n",
        "\n",
        "(d) P(1 <= X) when n = 12 and p = 0.14"
      ]
    },
    {
      "cell_type": "code",
      "metadata": {
        "id": "Dk11SLkNSSUS",
        "colab_type": "code",
        "colab": {}
      },
      "source": [
        ""
      ],
      "execution_count": null,
      "outputs": []
    },
    {
      "cell_type": "code",
      "metadata": {
        "id": "2yb5MjNySSUX",
        "colab_type": "code",
        "colab": {}
      },
      "source": [
        ""
      ],
      "execution_count": null,
      "outputs": []
    },
    {
      "cell_type": "code",
      "metadata": {
        "id": "WjaYXITDSSUa",
        "colab_type": "code",
        "colab": {}
      },
      "source": [
        ""
      ],
      "execution_count": null,
      "outputs": []
    },
    {
      "cell_type": "code",
      "metadata": {
        "id": "kG8PAp3zSSUf",
        "colab_type": "code",
        "colab": {}
      },
      "source": [
        ""
      ],
      "execution_count": null,
      "outputs": []
    },
    {
      "cell_type": "code",
      "metadata": {
        "id": "rX1x_j1_SSUn",
        "colab_type": "code",
        "colab": {}
      },
      "source": [
        ""
      ],
      "execution_count": null,
      "outputs": []
    },
    {
      "cell_type": "markdown",
      "metadata": {
        "id": "DNguoUpZSSUr",
        "colab_type": "text"
      },
      "source": [
        "# Question 5:\n",
        "\n",
        "When circuit boards used in the manufacture of compact disc players are tested, the long-run percentage of defectives is 10%. Let X = the number of defective boards in a random sample of size n = 25, so X ~ Bin(25, 0.10).\n",
        "\n",
        "(a) Determine P(X <= 2).\n",
        "\n",
        "(b) Determine P(X >= 5).\n",
        "\n",
        "(c) Determine P(1 <= X <= 4).\n",
        "\n",
        "(d) What is the probability that none of the 25 boards is defective?\n",
        "\n",
        "(e) Calculate the expected value and standard deviation of X."
      ]
    },
    {
      "cell_type": "code",
      "metadata": {
        "id": "njikM-0ySSUs",
        "colab_type": "code",
        "colab": {}
      },
      "source": [
        ""
      ],
      "execution_count": null,
      "outputs": []
    },
    {
      "cell_type": "code",
      "metadata": {
        "id": "o2zkYLyzSSUw",
        "colab_type": "code",
        "colab": {}
      },
      "source": [
        ""
      ],
      "execution_count": null,
      "outputs": []
    },
    {
      "cell_type": "code",
      "metadata": {
        "id": "b8HzyJP1SSU0",
        "colab_type": "code",
        "colab": {}
      },
      "source": [
        ""
      ],
      "execution_count": null,
      "outputs": []
    },
    {
      "cell_type": "code",
      "metadata": {
        "id": "QHI-S8LcSSU2",
        "colab_type": "code",
        "colab": {}
      },
      "source": [
        ""
      ],
      "execution_count": null,
      "outputs": []
    },
    {
      "cell_type": "code",
      "metadata": {
        "id": "Q1UbT3HNSSU7",
        "colab_type": "code",
        "colab": {}
      },
      "source": [
        ""
      ],
      "execution_count": null,
      "outputs": []
    },
    {
      "cell_type": "code",
      "metadata": {
        "id": "Ga-e8SlUSSVA",
        "colab_type": "code",
        "colab": {}
      },
      "source": [
        ""
      ],
      "execution_count": null,
      "outputs": []
    },
    {
      "cell_type": "code",
      "metadata": {
        "id": "Bp1FQ6ZiSSVD",
        "colab_type": "code",
        "colab": {}
      },
      "source": [
        ""
      ],
      "execution_count": null,
      "outputs": []
    },
    {
      "cell_type": "markdown",
      "metadata": {
        "id": "mPhdw3TuSSVH",
        "colab_type": "text"
      },
      "source": [
        "# Question 6:\n",
        "\n",
        "An airport limousine can accommodate up to four passengers on any one trip. The company will accept a maximum of six reservations for a trip, and a passenger must have a reservation. From previous records, 40% of all those making reservations do not appear for the trip. Answer the following questions, assuming independence wherever appropriate.\n",
        "\n",
        "(a) If six reservations are made, what is the probability that at least one individual with a reservation cannot be accommodated on the trip?\n",
        "\n",
        "(b) If six reservations are made, what is the expected number of available places when the limousine departs?\n",
        "Your answer is incorrect.\n",
        "\n",
        "(c) Suppose the probability distribution of the number of reservations made is given in the accompanying table.\n",
        "\n",
        "Number of reservations    \t3      4\t 5\t   6\n",
        "\n",
        "Probability\t                0.09   0.24  0.33  0.34    \n",
        "\n",
        "Let X denote the number of passengers on a randomly selected trip. Obtain the probability mass function of X."
      ]
    },
    {
      "cell_type": "code",
      "metadata": {
        "id": "Exbh-bx6SSVH",
        "colab_type": "code",
        "colab": {}
      },
      "source": [
        ""
      ],
      "execution_count": null,
      "outputs": []
    },
    {
      "cell_type": "code",
      "metadata": {
        "id": "RPwTuCR3SSVL",
        "colab_type": "code",
        "colab": {}
      },
      "source": [
        ""
      ],
      "execution_count": null,
      "outputs": []
    },
    {
      "cell_type": "code",
      "metadata": {
        "id": "AXbwDqBQSSVP",
        "colab_type": "code",
        "colab": {}
      },
      "source": [
        "\n",
        "        "
      ],
      "execution_count": null,
      "outputs": []
    },
    {
      "cell_type": "code",
      "metadata": {
        "id": "SJKzKfidSSVR",
        "colab_type": "code",
        "colab": {}
      },
      "source": [
        ""
      ],
      "execution_count": null,
      "outputs": []
    },
    {
      "cell_type": "markdown",
      "metadata": {
        "id": "Ji9BTvoQSSVV",
        "colab_type": "text"
      },
      "source": [
        "# Question 7:\n",
        "\n",
        "Let X, the number of flaws on the surface of a randomly selected boiler of a certain type, have a Poisson distribution with parameter λ = 3. Compute the following probabilities.\n",
        "\n",
        "(a) P(X ≤ 8)\n",
        "\n",
        "(b) P(X = 8)\n",
        "\n",
        "(c) P(9 ≤ X)\n",
        "\n",
        "(d) P(5 ≤ X ≤ 8)\n",
        "\n",
        "(e) P(5 < X < 8)"
      ]
    },
    {
      "cell_type": "code",
      "metadata": {
        "id": "pSK-BHjdSSVV",
        "colab_type": "code",
        "colab": {}
      },
      "source": [
        ""
      ],
      "execution_count": null,
      "outputs": []
    },
    {
      "cell_type": "code",
      "metadata": {
        "id": "2zqIguUXSSVX",
        "colab_type": "code",
        "colab": {}
      },
      "source": [
        ""
      ],
      "execution_count": null,
      "outputs": []
    },
    {
      "cell_type": "markdown",
      "metadata": {
        "id": "90j4PPlGSSVa",
        "colab_type": "text"
      },
      "source": [
        "# Question 8\n",
        "\n",
        "Consider writing onto a computer disk and then sending it through a certifier that counts the number of missing pulses. Suppose this number X has a Poisson distribution with parameter λ = 0.19.\n",
        "\n",
        "(a) What is the probability that a disk has exactly one missing pulse?\n",
        "\n",
        "(b) What is the probability that a disk has at least two missing pulses?\n",
        "\n",
        "(c) If two disks are independently selected, what is the probability that neither contains a missing pulse?"
      ]
    },
    {
      "cell_type": "code",
      "metadata": {
        "id": "kgtAuWx-SSVb",
        "colab_type": "code",
        "colab": {
          "base_uri": "https://localhost:8080/",
          "height": 209
        },
        "outputId": "12b6a97a-2fab-4332-db89-2a6f29122875"
      },
      "source": [
        "lmbda = 0.19\n",
        "\n",
        "print (stats.poisson.pmf(1,lmbda))\n",
        "\n",
        "print (stats.poisson.cdf(1,lmbda))\n",
        "\n",
        "print (stats.poisson.pmf(0,lmbda))\n"
      ],
      "execution_count": 1,
      "outputs": [
        {
          "output_type": "error",
          "ename": "NameError",
          "evalue": "ignored",
          "traceback": [
            "\u001b[0;31m---------------------------------------------------------------------------\u001b[0m",
            "\u001b[0;31mNameError\u001b[0m                                 Traceback (most recent call last)",
            "\u001b[0;32m<ipython-input-1-7dbe17acc58f>\u001b[0m in \u001b[0;36m<module>\u001b[0;34m()\u001b[0m\n\u001b[1;32m      1\u001b[0m \u001b[0mlmbda\u001b[0m \u001b[0;34m=\u001b[0m \u001b[0;36m0.19\u001b[0m\u001b[0;34m\u001b[0m\u001b[0;34m\u001b[0m\u001b[0m\n\u001b[1;32m      2\u001b[0m \u001b[0;34m\u001b[0m\u001b[0m\n\u001b[0;32m----> 3\u001b[0;31m \u001b[0mprint\u001b[0m \u001b[0;34m(\u001b[0m\u001b[0mstats\u001b[0m\u001b[0;34m.\u001b[0m\u001b[0mpoisson\u001b[0m\u001b[0;34m.\u001b[0m\u001b[0mpmf\u001b[0m\u001b[0;34m(\u001b[0m\u001b[0;36m1\u001b[0m\u001b[0;34m,\u001b[0m\u001b[0mlmbda\u001b[0m\u001b[0;34m)\u001b[0m\u001b[0;34m)\u001b[0m\u001b[0;34m\u001b[0m\u001b[0;34m\u001b[0m\u001b[0m\n\u001b[0m",
            "\u001b[0;31mNameError\u001b[0m: name 'stats' is not defined"
          ]
        }
      ]
    },
    {
      "cell_type": "code",
      "metadata": {
        "id": "H0w-MpiYSSVe",
        "colab_type": "code",
        "colab": {}
      },
      "source": [
        ""
      ],
      "execution_count": null,
      "outputs": []
    },
    {
      "cell_type": "markdown",
      "metadata": {
        "id": "eEvVhSW0SSVh",
        "colab_type": "text"
      },
      "source": [
        "# Question 9\n",
        "\n",
        "In proof testing of circuit boards, the probability that any particular diode will fail is 0.01. Suppose a circuit board contains 150 diodes.\n",
        "\n",
        "(a) How many diodes would you expect to fail?\n",
        "\n",
        "What is the standard deviation of the number that are expected to fail?\n",
        "\n",
        "(b) What is the (approximate) probability that at least four diodes will fail on a randomly selected board? (Use binomial approximation.)\n",
        "\n",
        "(c) If five boards are shipped to a particular customer, how likely is it that at least four of them will work properly? (A board works properly only if all its diodes work.)"
      ]
    },
    {
      "cell_type": "code",
      "metadata": {
        "id": "4z7H2BGgSSVh",
        "colab_type": "code",
        "colab": {
          "base_uri": "https://localhost:8080/",
          "height": 246
        },
        "outputId": "6b6862ac-9c46-44d4-e3b5-25eeb99d2daf"
      },
      "source": [
        "N = 150\n",
        "p = 0.01\n",
        "\n",
        "mu = N*p\n",
        "sigma = np.sqrt(N*p*(1-p))\n",
        "\n",
        "print (mu,sigma)\n"
      ],
      "execution_count": 2,
      "outputs": [
        {
          "output_type": "error",
          "ename": "NameError",
          "evalue": "ignored",
          "traceback": [
            "\u001b[0;31m---------------------------------------------------------------------------\u001b[0m",
            "\u001b[0;31mNameError\u001b[0m                                 Traceback (most recent call last)",
            "\u001b[0;32m<ipython-input-2-40f594288084>\u001b[0m in \u001b[0;36m<module>\u001b[0;34m()\u001b[0m\n\u001b[1;32m      3\u001b[0m \u001b[0;34m\u001b[0m\u001b[0m\n\u001b[1;32m      4\u001b[0m \u001b[0mmu\u001b[0m \u001b[0;34m=\u001b[0m \u001b[0mN\u001b[0m\u001b[0;34m*\u001b[0m\u001b[0mp\u001b[0m\u001b[0;34m\u001b[0m\u001b[0;34m\u001b[0m\u001b[0m\n\u001b[0;32m----> 5\u001b[0;31m \u001b[0msigma\u001b[0m \u001b[0;34m=\u001b[0m \u001b[0mnp\u001b[0m\u001b[0;34m.\u001b[0m\u001b[0msqrt\u001b[0m\u001b[0;34m(\u001b[0m\u001b[0mN\u001b[0m\u001b[0;34m*\u001b[0m\u001b[0mp\u001b[0m\u001b[0;34m*\u001b[0m\u001b[0;34m(\u001b[0m\u001b[0;36m1\u001b[0m\u001b[0;34m-\u001b[0m\u001b[0mp\u001b[0m\u001b[0;34m)\u001b[0m\u001b[0;34m)\u001b[0m\u001b[0;34m\u001b[0m\u001b[0;34m\u001b[0m\u001b[0m\n\u001b[0m\u001b[1;32m      6\u001b[0m \u001b[0;34m\u001b[0m\u001b[0m\n\u001b[1;32m      7\u001b[0m \u001b[0mprint\u001b[0m \u001b[0;34m(\u001b[0m\u001b[0mmu\u001b[0m\u001b[0;34m,\u001b[0m\u001b[0msigma\u001b[0m\u001b[0;34m)\u001b[0m\u001b[0;34m\u001b[0m\u001b[0;34m\u001b[0m\u001b[0m\n",
            "\u001b[0;31mNameError\u001b[0m: name 'np' is not defined"
          ]
        }
      ]
    },
    {
      "cell_type": "code",
      "metadata": {
        "id": "hQBNEDUlSSVk",
        "colab_type": "code",
        "colab": {
          "base_uri": "https://localhost:8080/",
          "height": 209
        },
        "outputId": "5665c876-00e7-49c3-e702-d36a8aa9af60"
      },
      "source": [
        "Xp = stats.poisson(mu)\n",
        "\n",
        "print(1-Xp.cdf(3))\n",
        "\n",
        "X = stats.binom(N,p)\n",
        "\n",
        "print(1-X.cdf(3))"
      ],
      "execution_count": 3,
      "outputs": [
        {
          "output_type": "error",
          "ename": "NameError",
          "evalue": "ignored",
          "traceback": [
            "\u001b[0;31m---------------------------------------------------------------------------\u001b[0m",
            "\u001b[0;31mNameError\u001b[0m                                 Traceback (most recent call last)",
            "\u001b[0;32m<ipython-input-3-d6113b543e8f>\u001b[0m in \u001b[0;36m<module>\u001b[0;34m()\u001b[0m\n\u001b[0;32m----> 1\u001b[0;31m \u001b[0mXp\u001b[0m \u001b[0;34m=\u001b[0m \u001b[0mstats\u001b[0m\u001b[0;34m.\u001b[0m\u001b[0mpoisson\u001b[0m\u001b[0;34m(\u001b[0m\u001b[0mmu\u001b[0m\u001b[0;34m)\u001b[0m\u001b[0;34m\u001b[0m\u001b[0;34m\u001b[0m\u001b[0m\n\u001b[0m\u001b[1;32m      2\u001b[0m \u001b[0;34m\u001b[0m\u001b[0m\n\u001b[1;32m      3\u001b[0m \u001b[0mprint\u001b[0m\u001b[0;34m(\u001b[0m\u001b[0;36m1\u001b[0m\u001b[0;34m-\u001b[0m\u001b[0mXp\u001b[0m\u001b[0;34m.\u001b[0m\u001b[0mcdf\u001b[0m\u001b[0;34m(\u001b[0m\u001b[0;36m3\u001b[0m\u001b[0;34m)\u001b[0m\u001b[0;34m)\u001b[0m\u001b[0;34m\u001b[0m\u001b[0;34m\u001b[0m\u001b[0m\n",
            "\u001b[0;31mNameError\u001b[0m: name 'stats' is not defined"
          ]
        }
      ]
    },
    {
      "cell_type": "code",
      "metadata": {
        "id": "tZ5Imhc-SSVo",
        "colab_type": "code",
        "colab": {
          "base_uri": "https://localhost:8080/",
          "height": 191
        },
        "outputId": "bbf3e737-d2b1-4f11-c054-841b2a46e9f0"
      },
      "source": [
        "p_properly = X.pmf(0)\n",
        "print (p_properly)\n",
        "\n",
        "k = np.array([0,1,2,3,4,5])\n",
        "\n",
        "Xfive = stats.binom(5,p_properly)\n",
        "\n",
        "p_fouroffieve = 1-Xfive.cdf(3)\n",
        "\n",
        "print (p_fouroffieve)"
      ],
      "execution_count": 4,
      "outputs": [
        {
          "output_type": "error",
          "ename": "NameError",
          "evalue": "ignored",
          "traceback": [
            "\u001b[0;31m---------------------------------------------------------------------------\u001b[0m",
            "\u001b[0;31mNameError\u001b[0m                                 Traceback (most recent call last)",
            "\u001b[0;32m<ipython-input-4-be020619cefe>\u001b[0m in \u001b[0;36m<module>\u001b[0;34m()\u001b[0m\n\u001b[0;32m----> 1\u001b[0;31m \u001b[0mp_properly\u001b[0m \u001b[0;34m=\u001b[0m \u001b[0mX\u001b[0m\u001b[0;34m.\u001b[0m\u001b[0mpmf\u001b[0m\u001b[0;34m(\u001b[0m\u001b[0;36m0\u001b[0m\u001b[0;34m)\u001b[0m\u001b[0;34m\u001b[0m\u001b[0;34m\u001b[0m\u001b[0m\n\u001b[0m\u001b[1;32m      2\u001b[0m \u001b[0mprint\u001b[0m \u001b[0;34m(\u001b[0m\u001b[0mp_properly\u001b[0m\u001b[0;34m)\u001b[0m\u001b[0;34m\u001b[0m\u001b[0;34m\u001b[0m\u001b[0m\n",
            "\u001b[0;31mNameError\u001b[0m: name 'X' is not defined"
          ]
        }
      ]
    },
    {
      "cell_type": "code",
      "metadata": {
        "id": "8_D4-68fSSV5",
        "colab_type": "code",
        "colab": {}
      },
      "source": [
        ""
      ],
      "execution_count": null,
      "outputs": []
    },
    {
      "cell_type": "code",
      "metadata": {
        "id": "CE_Q_BbcSSV8",
        "colab_type": "code",
        "colab": {}
      },
      "source": [
        ""
      ],
      "execution_count": null,
      "outputs": []
    },
    {
      "cell_type": "code",
      "metadata": {
        "id": "bePrfOYXSSV9",
        "colab_type": "code",
        "colab": {}
      },
      "source": [
        ""
      ],
      "execution_count": null,
      "outputs": []
    },
    {
      "cell_type": "code",
      "metadata": {
        "id": "BhUcy2hHSSWA",
        "colab_type": "code",
        "colab": {}
      },
      "source": [
        ""
      ],
      "execution_count": null,
      "outputs": []
    }
  ]
}